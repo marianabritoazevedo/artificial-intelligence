{
  "nbformat": 4,
  "nbformat_minor": 0,
  "metadata": {
    "colab": {
      "provenance": []
    },
    "kernelspec": {
      "name": "python3",
      "display_name": "Python 3"
    },
    "language_info": {
      "name": "python"
    }
  },
  "cells": [
    {
      "cell_type": "markdown",
      "source": [
        "# Questão 5 - Lista 1 - Inteligência Artificial"
      ],
      "metadata": {
        "id": "-cg0OlSzyHjl"
      }
    },
    {
      "cell_type": "markdown",
      "source": [
        "## a) Estime o vetor média e a matriz de covariância de cada distribuição gaussiana multivariada."
      ],
      "metadata": {
        "id": "cdIVSRb3Tsq5"
      }
    },
    {
      "cell_type": "markdown",
      "source": [
        "### Importação da biblioteca do Python para manipulação de vetores"
      ],
      "metadata": {
        "id": "l710T-B-Tvij"
      }
    },
    {
      "cell_type": "code",
      "source": [
        "import numpy as np"
      ],
      "metadata": {
        "id": "Yy2lzM9Jz1BZ"
      },
      "execution_count": null,
      "outputs": []
    },
    {
      "cell_type": "markdown",
      "source": [
        "### Declarando os vetores\n",
        "Considera-se cw1 a classe w1 e cw2 a classe w2"
      ],
      "metadata": {
        "id": "AJsCy_OpTzTq"
      }
    },
    {
      "cell_type": "code",
      "execution_count": null,
      "metadata": {
        "id": "0KFzcuH4NYS4"
      },
      "outputs": [],
      "source": [
        "x1_cw1 = [-5.01, -5.43, 1.08, 0.86, -2.67, 4.94, -2.51, -2.25, 5.56, 1.03]\n",
        "x2_cw1 = [-8.12, -3.48, -5.52, -3.78, 0.63, 3.29, 2.09, -2.13, 2.86, -3.33]\n",
        "\n",
        "x1_cw2 = [-0.91, 1.3, -7.75, -5.47, 6.14, 3.6, 5.37, 7.18, -7.39, -7.5]\n",
        "x2_cw2 = [-0.18, -2.06, -4.54, 0.5, 5.72, 1.26, -4.63, 1.46, 1.17, -6.32]"
      ]
    },
    {
      "cell_type": "markdown",
      "source": [
        "### Calculando os vetores média"
      ],
      "metadata": {
        "id": "CDPAFVzxzpKS"
      }
    },
    {
      "cell_type": "markdown",
      "source": [
        "$\\mu_{w1} = \n",
        "\\begin{bmatrix}\n",
        "\\mu_{x1\\_w1}\\\\ \n",
        "\\mu_{x2\\_w1}\n",
        "\\end{bmatrix}$\n",
        "\n",
        "$\\mu_{w2} = \n",
        "\\begin{bmatrix}\n",
        "\\mu_{x1\\_w2}\\\\ \n",
        "\\mu_{x2\\_w2}\n",
        "\\end{bmatrix}$"
      ],
      "metadata": {
        "id": "kE0HayoUzYdT"
      }
    },
    {
      "cell_type": "code",
      "source": [
        "media_x1_cw1 = round(np.mean(x1_cw1), 3)\n",
        "media_x2_cw1 = round(np.mean(x2_cw1), 3)\n",
        "media_x1_cw2 = round(np.mean(x1_cw2), 3)\n",
        "media_x2_cw2 = round(np.mean(x2_cw2), 3)"
      ],
      "metadata": {
        "id": "ce3Sd592QC0_"
      },
      "execution_count": null,
      "outputs": []
    },
    {
      "cell_type": "markdown",
      "source": [
        "### Calculando as matrizes de covariância"
      ],
      "metadata": {
        "id": "A1IpBUPF0aQ-"
      }
    },
    {
      "cell_type": "markdown",
      "source": [
        "$\\sigma_{w1} = \\begin{bmatrix}\n",
        "s_{11\\_w1} & s_{12\\_w1} \\\\\n",
        "s_{21\\_w1} & s_{22\\_w1}\n",
        "\\end{bmatrix}$ \n",
        "\n",
        "$\\sigma_{w2} = \\begin{bmatrix}\n",
        "s_{11\\_w2} & s_{12\\_w2} \\\\\n",
        "s_{21\\_w2} & s_{22\\_w2}\n",
        "\\end{bmatrix}$ "
      ],
      "metadata": {
        "id": "xjnxOfjaNMmL"
      }
    },
    {
      "cell_type": "code",
      "source": [
        "s11_w1 = 0\n",
        "s12_w1 = 0\n",
        "s21_w1 = 0\n",
        "s22_w1 = 0\n",
        "for i in range(0,10):\n",
        "  s11_w1 += (x1_cw1[i]-media_x1_cw1)*(x1_cw1[i]-media_x1_cw1)\n",
        "  s12_w1 += (x1_cw1[i]-media_x1_cw1)*(x2_cw1[i]-media_x2_cw1)\n",
        "  s21_w1 += (x2_cw1[i]-media_x2_cw1)*(x1_cw1[i]-media_x1_cw1)\n",
        "  s22_w1 += (x2_cw1[i]-media_x2_cw1)*(x2_cw1[i]-media_x2_cw1)\n",
        "\n",
        "s11_w1 = round(s11_w1/9, 3)\n",
        "s12_w1 = round(s12_w1/9, 3)\n",
        "s21_w1 = round(s21_w1/9, 3)\n",
        "s22_w1 = round(s22_w1/9, 3)\n",
        "\n",
        "matriz_w1 = [[s11_w1, s12_w1], [s21_w1, s22_w1]]\n",
        "matriz_w1"
      ],
      "metadata": {
        "colab": {
          "base_uri": "https://localhost:8080/"
        },
        "id": "f9K7zQF6N8ZF",
        "outputId": "f731a1e7-c3a3-4c38-9bc8-50bf6cb54916"
      },
      "execution_count": null,
      "outputs": [
        {
          "output_type": "execute_result",
          "data": {
            "text/plain": [
              "[[14.381, 7.695], [7.695, 14.623]]"
            ]
          },
          "metadata": {},
          "execution_count": 6
        }
      ]
    },
    {
      "cell_type": "code",
      "source": [
        "s11_w2 = 0\n",
        "s12_w2 = 0\n",
        "s21_w2 = 0\n",
        "s22_w2 = 0\n",
        "for i in range(0,10):\n",
        "  s11_w2 += (x1_cw2[i]-media_x1_cw2)*(x1_cw2[i]-media_x1_cw2)\n",
        "  s12_w2 += (x1_cw2[i]-media_x1_cw2)*(x2_cw2[i]-media_x2_cw2)\n",
        "  s21_w2 += (x2_cw2[i]-media_x2_cw2)*(x1_cw2[i]-media_x1_cw2)\n",
        "  s22_w2 += (x2_cw2[i]-media_x2_cw2)*(x2_cw2[i]-media_x2_cw2)\n",
        "\n",
        "s11_w2 = round(s11_w2/9, 3)\n",
        "s12_w2 = round(s12_w2/9, 3)\n",
        "s21_w2 = round(s21_w2/9, 3)\n",
        "s22_w2 = round(s22_w2/9, 3)\n",
        "\n",
        "matriz_w2 = [[s11_w2, s12_w2], [s21_w2, s22_w2]]\n",
        "matriz_w2"
      ],
      "metadata": {
        "colab": {
          "base_uri": "https://localhost:8080/"
        },
        "id": "_fIQzSGrP5F4",
        "outputId": "98f3cadc-248f-469f-aa3b-ef237dfe7683"
      },
      "execution_count": null,
      "outputs": [
        {
          "output_type": "execute_result",
          "data": {
            "text/plain": [
              "[[36.829, 9.981], [9.981, 13.169]]"
            ]
          },
          "metadata": {},
          "execution_count": 7
        }
      ]
    },
    {
      "cell_type": "markdown",
      "source": [
        "## b) Determine a superfície de decisão"
      ],
      "metadata": {
        "id": "AsuPr8TCUDFX"
      }
    },
    {
      "cell_type": "markdown",
      "source": [
        "### Organizando os vetores e matriz de g1 e g2"
      ],
      "metadata": {
        "id": "Fx0uXmn6QMy4"
      }
    },
    {
      "cell_type": "code",
      "source": [
        "media_w1 = np.asarray([\n",
        "    [media_x1_cw1],\n",
        "    [media_x2_cw1]\n",
        "], dtype='float32')\n",
        "\n",
        "media_w2 = np.asarray([\n",
        "    [media_x1_cw2],\n",
        "    [media_x2_cw2]\n",
        "], dtype='float32')\n",
        "\n",
        "cov_w1 = np.asarray([\n",
        "    [s11_w1, s12_w1],\n",
        "    [s21_w1, s22_w1]\n",
        "], dtype='float32')\n",
        "\n",
        "cov_w2 = np.asarray([\n",
        "    [s11_w2, s12_w2],\n",
        "    [s21_w2, s22_w2]\n",
        "], dtype='float32')\n",
        "\n",
        "print(media_w1)\n",
        "print(media_w2)\n",
        "print(cov_w1)\n",
        "print(cov_w2)"
      ],
      "metadata": {
        "colab": {
          "base_uri": "https://localhost:8080/"
        },
        "id": "5mKZ8PXdQ4o0",
        "outputId": "214c33c2-67a1-4995-9eba-2ee64efef792"
      },
      "execution_count": null,
      "outputs": [
        {
          "output_type": "stream",
          "name": "stdout",
          "text": [
            "[[-0.44 ]\n",
            " [-1.749]]\n",
            "[[-0.543]\n",
            " [-0.762]]\n",
            "[[14.381  7.695]\n",
            " [ 7.695 14.623]]\n",
            "[[36.829  9.981]\n",
            " [ 9.981 13.169]]\n"
          ]
        }
      ]
    },
    {
      "cell_type": "markdown",
      "source": [
        "### Definindo a função discriminante g1"
      ],
      "metadata": {
        "id": "rfsN9IqLUMqC"
      }
    },
    {
      "cell_type": "code",
      "source": [
        "def g1(x):\n",
        "  termo1 = np.transpose(x-media_w1)\n",
        "  termo2 = np.linalg.inv(cov_w1)\n",
        "  termo3 = x-media_w1\n",
        "  termo4 = np.dot(termo1, termo2)\n",
        "  termo5 = np.dot(termo4, termo3)\n",
        "  termo6 = np.log(np.linalg.det(cov_w1))\n",
        "  resultado = float(-0.5*termo5 - 0.5*termo6)\n",
        "  return round(resultado, 4)"
      ],
      "metadata": {
        "id": "V102yUYvQPL0"
      },
      "execution_count": null,
      "outputs": []
    },
    {
      "cell_type": "markdown",
      "source": [
        "### Definindo a função discriminante g2"
      ],
      "metadata": {
        "id": "Hdv_MdUnUQRp"
      }
    },
    {
      "cell_type": "code",
      "source": [
        "def g2(x):\n",
        "  termo1 = np.transpose(x-media_w2)\n",
        "  termo2 = np.linalg.inv(cov_w2)\n",
        "  termo3 = x-media_w2\n",
        "  termo4 = np.dot(termo1, termo2)\n",
        "  termo5 = np.dot(termo4, termo3)\n",
        "  termo6 = np.log(np.linalg.det(cov_w2))\n",
        "  resultado = float(-0.5*termo5 - 0.5*termo6)\n",
        "  return round(resultado, 4)"
      ],
      "metadata": {
        "id": "EhqHlBVNSOc0"
      },
      "execution_count": null,
      "outputs": []
    },
    {
      "cell_type": "markdown",
      "source": [
        "### Definindo a superfície de decisão g: g1-g2=0"
      ],
      "metadata": {
        "id": "I9XVrToaVJzt"
      }
    },
    {
      "cell_type": "code",
      "source": [
        "def g(x):\n",
        "  termo1_1 = np.transpose(x-media_w1)\n",
        "  termo2_1 = np.linalg.inv(cov_w1)\n",
        "  termo3_1 = x-media_w1\n",
        "  termo4_1 = np.dot(termo1_1, termo2_1)\n",
        "  termo5_1 = np.dot(termo4_1, termo3_1)\n",
        "  termo6_1 = np.log(np.linalg.det(cov_w1))\n",
        "\n",
        "  termo1_2 = np.transpose(x-media_w2)\n",
        "  termo2_2 = np.linalg.inv(cov_w2)\n",
        "  termo3_2 = x-media_w2\n",
        "  termo4_2 = np.dot(termo1_2, termo2_2)\n",
        "  termo5_2 = np.dot(termo4_2, termo3_2)\n",
        "  termo6_2 = np.log(np.linalg.det(cov_w2))\n",
        "\n",
        "  resultado = float(-0.5*termo5_1 - 0.5*termo6_1 + 0.5*termo5_2 + 0.5*termo6_2)\n",
        "  return resultado"
      ],
      "metadata": {
        "id": "MLbYVAO2VPxB"
      },
      "execution_count": null,
      "outputs": []
    },
    {
      "cell_type": "markdown",
      "source": [
        "## c) Classifique os pontos (padrões) (1, 2)t , (5, 3)t , (0, 0)t , (1, 0)t , decidindo pela classe com maior valor das funções discriminantes, isto e, max{gi(x)} ou faça pela região definida pela superfície de separação (função descriminante)\n"
      ],
      "metadata": {
        "id": "191ZVLWFSXZN"
      }
    },
    {
      "cell_type": "markdown",
      "source": [
        "### Classificação do ponto (1,2)t -> Classe w1"
      ],
      "metadata": {
        "id": "n90ZA3KtUfu3"
      }
    },
    {
      "cell_type": "code",
      "source": [
        "#Ponto (1,2)\n",
        "ponto1 = np.asarray([\n",
        "    [1,2]\n",
        "], dtype='float32')\n",
        "ponto1 = np.transpose(ponto1)\n",
        "print(g1(ponto1))\n",
        "print(g2(ponto1))"
      ],
      "metadata": {
        "colab": {
          "base_uri": "https://localhost:8080/"
        },
        "id": "Ly1rSFRYSYb8",
        "outputId": "720951cc-f348-4a63-aba2-6adcb559346c"
      },
      "execution_count": null,
      "outputs": [
        {
          "output_type": "stream",
          "name": "stdout",
          "text": [
            "-3.0032\n",
            "-3.2719\n"
          ]
        }
      ]
    },
    {
      "cell_type": "markdown",
      "source": [
        "### Classificação do ponto (5,3t) -> Classe w2"
      ],
      "metadata": {
        "id": "j_0f6SVQUiZR"
      }
    },
    {
      "cell_type": "code",
      "source": [
        "#Ponto (5,3)\n",
        "ponto2 = np.asarray([\n",
        "    [5,3]\n",
        "], dtype='float32')\n",
        "ponto2 = np.transpose(ponto2)\n",
        "print(g1(ponto2))\n",
        "print(g2(ponto2))"
      ],
      "metadata": {
        "colab": {
          "base_uri": "https://localhost:8080/"
        },
        "id": "s2kPDfKZS2Jk",
        "outputId": "4426d86f-4826-47dc-de7f-be6e55991ecf"
      },
      "execution_count": null,
      "outputs": [
        {
          "output_type": "stream",
          "name": "stdout",
          "text": [
            "-3.6986\n",
            "-3.6383\n"
          ]
        }
      ]
    },
    {
      "cell_type": "markdown",
      "source": [
        "### Classificação do ponto (0,0)t -> Classe w1"
      ],
      "metadata": {
        "id": "17dhtEQmUpbm"
      }
    },
    {
      "cell_type": "code",
      "source": [
        "#Ponto (0,0)\n",
        "ponto3 = np.asarray([\n",
        "    [0,0]\n",
        "], dtype='float32')\n",
        "ponto3 = np.transpose(ponto3)\n",
        "print(g1(ponto3))\n",
        "print(g2(ponto3))"
      ],
      "metadata": {
        "colab": {
          "base_uri": "https://localhost:8080/"
        },
        "id": "6N86hC4OS5ZH",
        "outputId": "90184fe2-8e63-4e0e-c809-5d42a55f95b7"
      },
      "execution_count": null,
      "outputs": [
        {
          "output_type": "stream",
          "name": "stdout",
          "text": [
            "-2.6247\n",
            "-2.9992\n"
          ]
        }
      ]
    },
    {
      "cell_type": "markdown",
      "source": [
        "### Classificação do ponto (1,0)t -> Classe w1"
      ],
      "metadata": {
        "id": "6mNb6K31UtGJ"
      }
    },
    {
      "cell_type": "code",
      "source": [
        "#Ponto (1,0)\n",
        "ponto4 = np.asarray([\n",
        "    [1,0]\n",
        "], dtype='float32')\n",
        "ponto4 = np.transpose(ponto4)\n",
        "print(g1(ponto4))\n",
        "print(g2(ponto4))"
      ],
      "metadata": {
        "colab": {
          "base_uri": "https://localhost:8080/"
        },
        "id": "9sgchT_5TGeJ",
        "outputId": "4197a963-3247-4cf0-f806-55d94c8e2a9d"
      },
      "execution_count": null,
      "outputs": [
        {
          "output_type": "stream",
          "name": "stdout",
          "text": [
            "-2.6266\n",
            "-3.0151\n"
          ]
        }
      ]
    }
  ]
}